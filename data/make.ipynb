{
 "cells": [
  {
   "cell_type": "code",
   "execution_count": null,
   "metadata": {},
   "outputs": [],
   "source": [
    "%reload_ext autoreload\n",
    "%autoreload\n",
    "\n",
    "import os\n",
    "from itertools import product\n",
    "\n",
    "import numpy as np\n",
    "import pandas as pd\n",
    "from tqdm import tqdm\n",
    "from datetime import datetime"
   ]
  },
  {
   "cell_type": "code",
   "execution_count": null,
   "metadata": {},
   "outputs": [],
   "source": [
    "os.path.exists(\"C:/Users/q1371/Desktop/Projects/BenchmarkDatasets\")"
   ]
  },
  {
   "cell_type": "code",
   "execution_count": null,
   "id": "058f36ba",
   "metadata": {},
   "outputs": [],
   "source": [
    "norm_type = 'DecPre'\n",
    "assert norm_type in ['Zscore','MinMax','DecPre']\n",
    "\n",
    "if norm_type == 'Zscore':\n",
    "    norm_num = 1\n",
    "    file_type = 'ZScore'\n",
    "elif norm_type == 'MinMax':\n",
    "    norm_num = 2\n",
    "    file_type = norm_type\n",
    "elif norm_type == 'DecPre':\n",
    "    norm_num = 3\n",
    "    file_type = norm_type"
   ]
  },
  {
   "cell_type": "code",
   "execution_count": null,
   "id": "2cb6e451",
   "metadata": {},
   "outputs": [],
   "source": [
    "root = \"C:/Users/q1371/Desktop/Projects\"\n",
    "Trainset_path = f'{root}/BenchmarkDatasets/NoAuction/{norm_num}.NoAuction_{norm_type}/NoAuction_{norm_type}_Training'\n",
    "Train_path = os.path.join(Trainset_path,f'Train_Dst_NoAuction_{file_type}_CF_1.txt')\n",
    "Testset_path = f'{root}/BenchmarkDatasets/NoAuction/{norm_num}.NoAuction_{norm_type}/NoAuction_{norm_type}_Testing'\n",
    "Test_path_1 = os.path.join(Testset_path,f'Test_Dst_NoAuction_{file_type}_CF_7.txt')\n",
    "Test_path_2 = os.path.join(Testset_path,f'Test_Dst_NoAuction_{file_type}_CF_8.txt')\n",
    "Test_path_3 = os.path.join(Testset_path,f'Test_Dst_NoAuction_{file_type}_CF_9.txt')"
   ]
  },
  {
   "cell_type": "code",
   "execution_count": null,
   "metadata": {},
   "outputs": [],
   "source": [
    "def load_raw(day: int, normalization=\"DecPre\") -> np.array:\n",
    "    index = {\"DecPre\": 3, \"Zscore\": 1}[normalization]\n",
    "    root = f\"C:/Users/q1371/Desktop/Projects/BenchmarkDatasets/NoAuction/{index}.NoAuction_{normalization}\"\n",
    "    if normalization == \"Zscore\":\n",
    "        normalization1 = \"ZScore\"\n",
    "    else:\n",
    "        normalization1 = normalization\n",
    "    if day == 1:\n",
    "        return np.loadtxt(\n",
    "            f\"{root}/NoAuction_{normalization}_Training/Train_Dst_NoAuction_{normalization1}_CF_1.txt\"\n",
    "        )\n",
    "    else:\n",
    "        return np.loadtxt(\n",
    "            f\"{root}/NoAuction_{normalization}_Testing/Test_Dst_NoAuction_{normalization1}_CF_{day-1}.txt\"\n",
    "        )"
   ]
  },
  {
   "cell_type": "code",
   "execution_count": null,
   "id": "bb6d5933",
   "metadata": {},
   "outputs": [],
   "source": [
    "# # 如何找到stock的分隔点\n",
    "# # 1.每一步的值和前一步的值去取插值\n",
    "# # 2. 对这些插值进行排序\n",
    "# # 3.不同股票之间的插值肯定最大\n",
    "# # 4.找到差值最大的五个分隔点\n",
    "# diff = np.diff(a_raw[0],prepend=np.inf)\n",
    "\n",
    "# diff = np.abs(diff)\n",
    "# sort_idx = np.argsort(diff)\n",
    "# split_point = np.sort(sort_idx[-5:])\n",
    "# split_point = np.append(split_point,[a_raw.shape[1]])\n",
    "# # for i in range(len(sort_idx)):\n",
    "# #     print(sort_idx[i])\n",
    "# split_point"
   ]
  },
  {
   "cell_type": "code",
   "execution_count": null,
   "metadata": {},
   "outputs": [],
   "source": [
    "def split(array, n_stocks=5):\n",
    "    boundaries = np.sort(\n",
    "        np.argsort(np.abs(np.diff(array[0], prepend=np.inf)))[-n_stocks :]\n",
    "    )\n",
    "    boundaries = np.append(boundaries,[array.shape[1]])\n",
    "    return tuple(array[:, boundaries[i] : boundaries[i + 1]] for i in range(n_stocks))"
   ]
  },
  {
   "cell_type": "code",
   "execution_count": null,
   "metadata": {},
   "outputs": [],
   "source": [
    "def to_dataframe(array) -> pd.DataFrame:\n",
    "    data = {}\n",
    "\n",
    "    for level in range(10):\n",
    "        data[f\"PRICE_ASK_{level}\"] = array[4 * level]\n",
    "    for level in range(10):\n",
    "        data[f\"PRICE_BID_{level}\"] = array[4 * level + 2]\n",
    "    for level in range(10):\n",
    "        data[f\"VOLUME_ASK_{level}\"] = array[4 * level + 1]\n",
    "    for level in range(10):\n",
    "        data[f\"VOLUME_BID_{level}\"] = array[4 * level + 3]\n",
    "    data[f\"LABEL_1TICK\"] = 2 - array[-5]\n",
    "    data[f\"LABEL_2TICK\"] = 2 - array[-4]\n",
    "    data[f\"LABEL_3TICK\"] = 2 - array[-3]\n",
    "    data[f\"LABEL_5TICK\"] = 2 - array[-2]\n",
    "    data[f\"LABEL_10TICK\"] = 2 - array[-1]\n",
    "\n",
    "    return pd.DataFrame(data)"
   ]
  },
  {
   "cell_type": "code",
   "execution_count": null,
   "metadata": {},
   "outputs": [],
   "source": [
    "def revert_decimal_normalization(df, max_denom=10 ** 8):\n",
    "    assert (df.iloc[:, :-5].values != 0).all()\n",
    "\n",
    "    df.iloc[:, :-5] = df.iloc[:, :-5] * max_denom\n",
    "    df.iloc[:, :-5] = df.iloc[:, :-5].round()\n",
    "    df.iloc[:, :-5] = df.iloc[:, :-5].astype(int)\n",
    "    for c in df.columns[:-5]:\n",
    "        while (df.loc[:, c] % 10 == 0).all():\n",
    "            df.loc[:, c] //= 10\n",
    "    return df"
   ]
  },
  {
   "cell_type": "code",
   "execution_count": null,
   "metadata": {},
   "outputs": [],
   "source": [
    "dfs = {i_stock: {} for i_stock in range(1, 5 + 1)}\n",
    "\n",
    "for day in tqdm(range(1, 10 + 1)):\n",
    "    a_raw = load_raw(day)\n",
    "    for i_stock, a in enumerate(split(a_raw)):\n",
    "        dfs[i_stock + 1][day] = to_dataframe(a)"
   ]
  },
  {
   "cell_type": "code",
   "execution_count": null,
   "metadata": {
    "tags": []
   },
   "outputs": [],
   "source": [
    "listdf = []\n",
    "\n",
    "for i_stock, day in tqdm(list(product(range(1, 5 + 1), range(1, 10 + 1)))):\n",
    "    df = dfs[i_stock][day]\n",
    "    df = revert_decimal_normalization(df)\n",
    "    df[\"STOCK\"] = i_stock\n",
    "    df[\"DAY\"] = day\n",
    "    df = df[list(df.columns[-2:]) + list(df.columns[:-2])]\n",
    "\n",
    "    listdf.append(df)\n",
    "\n",
    "dataframe = pd.concat(listdf, axis=0)\n",
    "dataframe = dataframe.reset_index(drop=True)\n",
    "dataframe = dataframe.astype(int)\n",
    "dataframe.to_csv(f\"data_denorm.csv\")"
   ]
  },
  {
   "cell_type": "code",
   "execution_count": null,
   "metadata": {},
   "outputs": [],
   "source": [
    "dataframe"
   ]
  },
  {
   "cell_type": "code",
   "execution_count": null,
   "metadata": {},
   "outputs": [],
   "source": [
    "dfs = {i_stock: {} for i_stock in range(1, 5 + 1)}\n",
    "\n",
    "for day in tqdm(range(1, 10 + 1)):\n",
    "    a_raw = load_raw(day, normalization=\"Zscore\")\n",
    "    for i_stock, a in enumerate(split(a_raw)):\n",
    "        dfs[i_stock + 1][day] = to_dataframe(a)"
   ]
  },
  {
   "cell_type": "code",
   "execution_count": null,
   "metadata": {},
   "outputs": [],
   "source": [
    "listdf = []\n",
    "\n",
    "for i_stock, day in tqdm(list(product(range(1, 5 + 1), range(1, 10 + 1)))):\n",
    "    df = dfs[i_stock][day]\n",
    "    # df = revert_decimal_normalization(df)\n",
    "    df[\"STOCK\"] = i_stock\n",
    "    df[\"DAY\"] = day\n",
    "    df = df[list(df.columns[-2:]) + list(df.columns[:-2])]\n",
    "\n",
    "    listdf.append(df)\n",
    "\n",
    "dataframe = pd.concat(listdf, axis=0)\n",
    "dataframe = dataframe.reset_index(drop=True)\n",
    "# dataframe = dataframe.astype(int)\n",
    "dataframe.iloc[:, -5:] = dataframe.iloc[:, -5:].astype(int)\n",
    "dataframe.to_csv(f\"data_no_date.csv\")\n",
    "# dataframe.iloc[:100000].to_csv(f\"data_zscore1.csv\")\n",
    "# dataframe.iloc[100000:].to_csv(f\"data_zscore2.csv\")"
   ]
  },
  {
   "cell_type": "code",
   "execution_count": null,
   "id": "197a15d9",
   "metadata": {},
   "outputs": [],
   "source": [
    "dataframe"
   ]
  },
  {
   "cell_type": "code",
   "execution_count": null,
   "metadata": {},
   "outputs": [],
   "source": [
    "dataframe.loc[dataframe['STOCK']==1]"
   ]
  },
  {
   "cell_type": "code",
   "execution_count": null,
   "metadata": {},
   "outputs": [],
   "source": [
    "day_begin = [\"2010-06-01 07:30:00.000\",\n",
    "             \"2010-06-02 07:30:00.000\",\n",
    "             \"2010-06-03 07:30:00.000\",\n",
    "             \"2010-06-04 07:30:00.000\",\n",
    "             \"2010-06-07 07:30:00.000\",\n",
    "             \"2010-06-08 07:30:00.000\",\n",
    "             \"2010-06-09 07:30:00.000\",\n",
    "             \"2010-06-10 07:30:00.000\",\n",
    "             \"2010-06-11 07:30:00.000\",\n",
    "             \"2010-06-14 07:30:00.000\"]\n",
    "day_end =[\"2010-06-01 15:25:00.000\",\n",
    "              \"2010-06-02 15:25:00.000\",\n",
    "              \"2010-06-03 15:25:00.000\",\n",
    "              \"2010-06-04 15:25:00.000\",\n",
    "              \"2010-06-07 15:25:00.000\",\n",
    "              \"2010-06-08 15:25:00.000\",\n",
    "              \"2010-06-09 15:25:00.000\",\n",
    "              \"2010-06-10 15:25:00.000\",\n",
    "              \"2010-06-11 15:25:00.000\",\n",
    "              \"2010-06-14 15:25:00.000\"]\n",
    "\n",
    "\n",
    "# day_one_begin = datetime.strptime(day_begin[0], \"%Y-%m-%d %H:%M:%S.%f\")\n",
    "# day_one_end = datetime.strptime(day_end[0], \"%Y-%m-%d %H:%M:%S.%f\")"
   ]
  },
  {
   "cell_type": "code",
   "execution_count": null,
   "id": "4b97f145",
   "metadata": {},
   "outputs": [],
   "source": [
    "len(day_end)"
   ]
  },
  {
   "cell_type": "code",
   "execution_count": null,
   "id": "b79ef783",
   "metadata": {},
   "outputs": [],
   "source": [
    "# step = (day_one_end - day_one_begin)/3454"
   ]
  },
  {
   "cell_type": "code",
   "execution_count": null,
   "id": "911a6013",
   "metadata": {},
   "outputs": [],
   "source": [
    "# new = day_one_begin + step"
   ]
  },
  {
   "cell_type": "code",
   "execution_count": null,
   "id": "98da63c0",
   "metadata": {},
   "outputs": [],
   "source": [
    "# print(new)"
   ]
  },
  {
   "cell_type": "code",
   "execution_count": null,
   "id": "3ffe93f5",
   "metadata": {},
   "outputs": [],
   "source": []
  },
  {
   "cell_type": "code",
   "execution_count": null,
   "id": "89d01d95",
   "metadata": {},
   "outputs": [],
   "source": []
  },
  {
   "cell_type": "code",
   "execution_count": null,
   "id": "8de7bf85",
   "metadata": {},
   "outputs": [],
   "source": [
    "all_date = []\n",
    "for j in tqdm(range(1,11)):\n",
    "    for k in range(1,6):\n",
    "        for i in range(len(dataframe.loc[(dataframe['STOCK']==k)&(dataframe['DAY']==j)])):\n",
    "            d_begin = datetime.strptime(day_begin[j-1], \"%Y-%m-%d %H:%M:%S.%f\")\n",
    "            d_end = datetime.strptime(day_end[j-1], \"%Y-%m-%d %H:%M:%S.%f\")\n",
    "            step = (d_end - d_begin)/len(dataframe.loc[(dataframe['STOCK']==k)&(dataframe['DAY']==j)])\n",
    "            all_date.append(d_begin + i*step)\n"
   ]
  },
  {
   "cell_type": "code",
   "execution_count": null,
   "id": "0ecffa9b",
   "metadata": {},
   "outputs": [],
   "source": [
    "all_date = np.array(all_date)\n",
    "np.save('date',all_date)"
   ]
  },
  {
   "cell_type": "code",
   "execution_count": null,
   "id": "0eb9d358",
   "metadata": {},
   "outputs": [],
   "source": [
    "date_df = pd.DataFrame(all_date)"
   ]
  },
  {
   "cell_type": "code",
   "execution_count": null,
   "id": "15a83723",
   "metadata": {},
   "outputs": [],
   "source": [
    "date_df"
   ]
  },
  {
   "cell_type": "code",
   "execution_count": null,
   "id": "44edfb75",
   "metadata": {},
   "outputs": [],
   "source": [
    "date_df.columns = ['date']"
   ]
  },
  {
   "cell_type": "code",
   "execution_count": null,
   "id": "4c9835dd",
   "metadata": {},
   "outputs": [],
   "source": [
    "date_df"
   ]
  },
  {
   "cell_type": "code",
   "execution_count": null,
   "id": "6e487d32",
   "metadata": {},
   "outputs": [],
   "source": [
    "dataframe.insert(1, \"date\", date_df)"
   ]
  },
  {
   "cell_type": "code",
   "execution_count": null,
   "id": "f7f8d1ea",
   "metadata": {},
   "outputs": [],
   "source": [
    "all_cols = dataframe.columns.values.tolist()\n",
    "del_col = ['STOCK','DAY']"
   ]
  },
  {
   "cell_type": "code",
   "execution_count": null,
   "id": "9443c48f",
   "metadata": {},
   "outputs": [],
   "source": [
    "for i in range(len(del_col)):   \n",
    "    all_cols.remove(del_col[i])"
   ]
  },
  {
   "cell_type": "code",
   "execution_count": null,
   "id": "2a9156e5",
   "metadata": {},
   "outputs": [],
   "source": [
    "new_data = pd.DataFrame(dataframe,columns=all_cols)"
   ]
  },
  {
   "cell_type": "code",
   "execution_count": null,
   "id": "8da9aabd",
   "metadata": {},
   "outputs": [],
   "source": [
    "new_data"
   ]
  },
  {
   "cell_type": "code",
   "execution_count": 175,
   "id": "e80f9733",
   "metadata": {},
   "outputs": [],
   "source": [
    "new_data.to_csv(f\"data.csv\")"
   ]
  },
  {
   "cell_type": "code",
   "execution_count": null,
   "id": "49020502",
   "metadata": {},
   "outputs": [],
   "source": []
  }
 ],
 "metadata": {
  "interpreter": {
   "hash": "7daafd6bb215d115716f04f369ff5a8573a2e75f8e14115a37d4c2f7d57b058e"
  },
  "kernelspec": {
   "display_name": "Python 3.8.8 ('rl')",
   "language": "python",
   "name": "python3"
  },
  "language_info": {
   "codemirror_mode": {
    "name": "ipython",
    "version": 3
   },
   "file_extension": ".py",
   "mimetype": "text/x-python",
   "name": "python",
   "nbconvert_exporter": "python",
   "pygments_lexer": "ipython3",
   "version": "3.8.8"
  }
 },
 "nbformat": 4,
 "nbformat_minor": 5
}
